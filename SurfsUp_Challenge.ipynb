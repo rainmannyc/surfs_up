{
 "cells": [
  {
   "cell_type": "code",
   "execution_count": null,
   "source": [
    "#   Dependencies\r\n",
    "import numpy as np\r\n",
    "import pandas as pd\r\n",
    "\r\n",
    "#   Import the sqlalchemy extract function.\r\n",
    "from sqlalchemy import extract\r\n",
    "\r\n",
    "\r\n",
    "#   Python SQL toolkit and Object Relational Mapper\r\n",
    "import sqlalchemy\r\n",
    "from sqlalchemy.ext.automap import automap_base\r\n",
    "from sqlalchemy.orm import Session\r\n",
    "from sqlalchemy import create_engine, func"
   ],
   "outputs": [],
   "metadata": {}
  },
  {
   "cell_type": "code",
   "execution_count": null,
   "source": [
    "engine = create_engine(\"sqlite:///hawaii.sqlite\")\r\n",
    "\r\n",
    "#   Reflect an existing database into a new model\r\n",
    "Base = automap_base()\r\n",
    "#   Reflect the tables\r\n",
    "Base.prepare(engine, reflect=True)\r\n",
    "\r\n",
    "#   Save references to each table\r\n",
    "Measurement = Base.classes.measurement\r\n",
    "Station = Base.classes.station"
   ],
   "outputs": [],
   "metadata": {}
  },
  {
   "cell_type": "code",
   "execution_count": null,
   "source": [
    "#   Create our session (link) from Python to the DB\r\n",
    "session = Session(engine)"
   ],
   "outputs": [],
   "metadata": {}
  },
  {
   "cell_type": "markdown",
   "source": [
    "## D1: Determine the Summary Statistics for June"
   ],
   "metadata": {}
  },
  {
   "cell_type": "code",
   "execution_count": null,
   "source": [
    "#   Write a query that filters the Measurement table to retrieve the temperatures for the month of June. \r\n",
    "\r\n",
    "#   Creating a list variable for June Temperatures\r\n",
    "junetemp = []\r\n",
    "#   Creating a session query for temperatures in the month of June\r\n",
    "junetemp = session.query(Measurement.date, Measurement.tobs).filter(extract('month', Measurement.date)==6).all()\r\n",
    "#   Generating a dataframe from our session query list\r\n",
    "junetemps = pd.DataFrame(junetemp, columns=['Date', 'Temperature'])\r\n",
    "#   Printing the dataframe\r\n",
    "junetemps"
   ],
   "outputs": [],
   "metadata": {}
  },
  {
   "cell_type": "code",
   "execution_count": null,
   "source": [
    "#   Calculate and print out the summary statistics for the June temperature DataFrame.\r\n",
    "junetemps.describe()"
   ],
   "outputs": [],
   "metadata": {}
  },
  {
   "cell_type": "markdown",
   "source": [
    "## D2: Determine the Summary Statistics for December"
   ],
   "metadata": {}
  },
  {
   "cell_type": "code",
   "execution_count": null,
   "source": [
    "#   Convert the December temperatures to a list.\r\n",
    "dectemp = []\r\n",
    "#   Write a query that filters the Measurement table to retrieve the temperatures for the month of December.\r\n",
    "dectemp = session.query(Measurement.date, Measurement.tobs).filter(extract('month', Measurement.date)==12).all()\r\n",
    "#   Generating a dataframe from our session query list\r\n",
    "dectemps = pd.DataFrame(dectemp, columns=['Date', 'Temperature'])\r\n",
    "#   Printing out our dataframe dectemps\r\n",
    "dectemps"
   ],
   "outputs": [],
   "metadata": {}
  },
  {
   "cell_type": "code",
   "execution_count": null,
   "source": [
    "#   Calculate and print out the summary statistics for the Decemeber temperature DataFrame.\r\n",
    "dectemps.describe()"
   ],
   "outputs": [],
   "metadata": {}
  }
 ],
 "metadata": {
  "interpreter": {
   "hash": "8a15c9b369eca022b09ab48dbf8fbfdcc41947b268f796883962217a916a4d84"
  },
  "kernelspec": {
   "name": "python3",
   "display_name": "Python 3.7.10 64-bit ('PythonData': conda)"
  },
  "language_info": {
   "codemirror_mode": {
    "name": "ipython",
    "version": 3
   },
   "file_extension": ".py",
   "mimetype": "text/x-python",
   "name": "python",
   "nbconvert_exporter": "python",
   "pygments_lexer": "ipython3",
   "version": "3.7.10"
  }
 },
 "nbformat": 4,
 "nbformat_minor": 2
}